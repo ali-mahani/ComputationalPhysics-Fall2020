{
 "cells": [
  {
   "cell_type": "code",
   "execution_count": 1,
   "metadata": {},
   "outputs": [],
   "source": [
    "from matplotlib import pyplot as plt\n",
    "import networkx as nx\n",
    "import numpy as np"
   ]
  },
  {
   "cell_type": "markdown",
   "metadata": {},
   "source": [
    "# Erdos Renyi"
   ]
  },
  {
   "cell_type": "code",
   "execution_count": null,
   "metadata": {},
   "outputs": [],
   "source": [
    "N = 500\n",
    "k = 0.8\n",
    "\n",
    "def gen_erdos(N, k):\n",
    "    G = nx.erdos_renyi_graph(N, k / N)\n",
    "\n",
    "    options = {\n",
    "        \"node_color\": \"red\",\n",
    "        'node_size': 5,\n",
    "    }\n",
    "    nx.draw(G, pos=nx.circular_layout(G), alpha=0.5, **options)\n",
    "    plt.savefig('p1_' + str(int(k)) + 'graph.jpg')\n",
    "    plt.show()\n",
    "\n",
    "    g_degrees = np.zeros(N)\n",
    "    g_clustering = np.zeros(N)\n",
    "    d_degree = G.degree\n",
    "    d_clustering = nx.clustering(G)\n",
    "    for i in range(N):\n",
    "        g_degrees[i] = d_degree[i]\n",
    "        g_clustering[i] = d_clustering[i]\n",
    "\n",
    "    plt.hist(g_degrees, bins=15)\n",
    "    plt.title('degree distribution for <k> = ' + str(k))\n",
    "    plt.savefig('p1_'+str(int(k))+'deg.jpg', bbox_inches='tight')\n",
    "    plt.show()\n",
    "    plt.hist(g_clustering, bins=15)\n",
    "    plt.title('clustering distribution for <k> = ' + str(k))\n",
    "    plt.savefig('p1_'+str(int(k))+'clust.jpg', bbox_inches='tight')\n",
    "    plt.show()\n",
    "    print(np.mean(g_degrees))\n",
    "    print(np.mean(g_clustering))\n",
    "\n",
    "gen_erdos(500, 0.8)\n",
    "gen_erdos(500, 1.0)\n",
    "gen_erdos(500, 8.0)"
   ]
  },
  {
   "cell_type": "markdown",
   "metadata": {},
   "source": [
    "# Metropolis"
   ]
  },
  {
   "cell_type": "code",
   "execution_count": 125,
   "metadata": {},
   "outputs": [],
   "source": [
    "# dist target\n",
    "def target_dist(x):\n",
    "    sigma = 1\n",
    "    return np.exp(- x ** 2 / (2 * sigma ** 2))\n",
    "\n",
    "def gen_gaus(step, size):\n",
    "    # Initialize at x=0\n",
    "    x = 0\n",
    "    count_accept = 0\n",
    "    n = 100\n",
    "    counter = 0\n",
    "    rands = np.zeros(size)\n",
    "    allin = np.zeros(size * n)\n",
    "    # Random choice of y with step\n",
    "    for i in range(n * size):\n",
    "        y = x + step * np.random.uniform(-1, 1)\n",
    "        # metropolis decision\n",
    "        if np.random.uniform(0, 1) < target_dist(y) / target_dist(x):\n",
    "            x = y\n",
    "            count_accept += 1\n",
    "        # save current\n",
    "        allin[counter] = x\n",
    "        # increment counter\n",
    "        counter += 1\n",
    "    # pick the random sample\n",
    "        if counter % n == 0:\n",
    "            rands[counter // n - 1] = x\n",
    "    # output\n",
    "    return rands, count_accept / (n * size), allin"
   ]
  },
  {
   "cell_type": "code",
   "execution_count": 185,
   "metadata": {},
   "outputs": [
    {
     "name": "stdout",
     "output_type": "stream",
     "text": [
      "0\n",
      "1\n",
      "2\n",
      "3\n",
      "4\n",
      "5\n",
      "6\n",
      "7\n",
      "8\n",
      "[0.90037, 0.80395, 0.69525, 0.60258, 0.50288, 0.40189, 0.30121, 0.2004, 0.09871]\n"
     ]
    }
   ],
   "source": [
    "size = 1000\n",
    "steps = [0.5, 1, 1.6, 2.2, 2.9, 3.9, 5.3, 7.9, 16]\n",
    "data = [None] * 9\n",
    "acc_rate = [None] * 9\n",
    "excesses = [None] * 9\n",
    "for i in range(len(steps)):\n",
    "    print(i)\n",
    "    data[i], acc_rate[i], excesses[i] = gen_gaus(steps[i], size)\n",
    "print(acc_rate)\n",
    "\n",
    "# dt = plt.hist(data, density=1, bins=40)"
   ]
  },
  {
   "cell_type": "code",
   "execution_count": 187,
   "metadata": {},
   "outputs": [
    {
     "data": {
      "text/plain": [
       "[28, 9, 4, 3, 2, 2, 3, 4, 8]"
      ]
     },
     "execution_count": 187,
     "metadata": {},
     "output_type": "execute_result"
    }
   ],
   "source": [
    "# Find the auto correlation coefficient for the data\n",
    "def corr_len(excess):\n",
    "    n = excess.shape[0]\n",
    "    auto_cor = np.zeros(40)\n",
    "    for j in range(0, 40):\n",
    "        sum = 0\n",
    "        for i in range(n - j):\n",
    "            sum += excess[i] * excess[i + j]\n",
    "        sum /= n - j\n",
    "        auto_cor[j] = (sum - np.mean(excess) ** 2) / np.var(excess)\n",
    "    return len(auto_cor[auto_cor > np.exp(-1)])\n",
    "leng = []\n",
    "for excess in excesses:\n",
    "    leng.append(corr_len(excess))\n",
    "leng"
   ]
  },
  {
   "cell_type": "markdown",
   "metadata": {},
   "source": [
    "# Monte Carlo ERF(x) from 0 to 2"
   ]
  },
  {
   "cell_type": "code",
   "execution_count": null,
   "metadata": {},
   "outputs": [],
   "source": [
    "from time import time"
   ]
  },
  {
   "cell_type": "code",
   "execution_count": null,
   "metadata": {},
   "outputs": [],
   "source": [
    "def f(x):\n",
    "    return np.exp(- x ** 2)\n",
    "\n",
    "# SS MC with stat error\n",
    "def SSMC(n):\n",
    "    start = time()\n",
    "    mean_f = 0\n",
    "    mean_f2 = 0\n",
    "    for i in range(n):\n",
    "        rand = np.random.uniform(0, 2)\n",
    "        mean_f += f(rand)\n",
    "        mean_f2 += f(rand) ** 2\n",
    "\n",
    "    mean_f2 /= n\n",
    "    mean_f /= n\n",
    "    elapsed = time() - start\n",
    "    err = np.sqrt(mean_f2 - mean_f ** 2 / n)\n",
    "    result = mean_f * 2\n",
    "\n",
    "    print(\"I = %.6f\" % result)\n",
    "    print(\"stat delta I = %.6f\" % err)\n",
    "    print(\"real delta I = %.6f\" % (result - 0.8820814))\n",
    "    print(\"runtime = %.5f\" % elapsed)\n",
    "\n",
    "SSMC(64000)"
   ]
  },
  {
   "cell_type": "code",
   "execution_count": null,
   "metadata": {},
   "outputs": [],
   "source": [
    "# IS MC\n",
    "def ISMC(n):\n",
    "    def f(x):\n",
    "        return np.exp(- x ** 2)\n",
    "\n",
    "    def g(x):\n",
    "        return np.exp(-x)\n",
    "    start = time()\n",
    "    # The integral for the result\n",
    "    INT_G = 1 - np.exp(-2)\n",
    "    range2 = np.exp(-2)\n",
    "    # random generator with g(x) prob. dist.\n",
    "    def g_rand(a, b):\n",
    "        return - np.log(np.random.uniform(a, b))\n",
    "    # Initialize \n",
    "    mean_fog = 0\n",
    "    mean_fog2 = 0\n",
    "\n",
    "    for i in range(n):\n",
    "        rand = g_rand(range2, 1)\n",
    "        mean_fog += f(rand) / g(rand)\n",
    "        mean_fog2 += (f(rand) / g(rand)) ** 2\n",
    "\n",
    "    mean_fog /= n\n",
    "    mean_fog2 /= n\n",
    "\n",
    "    result = INT_G * mean_fog\n",
    "    err = np.sqrt((mean_fog2 - mean_fog ** 2) / n)\n",
    "    elapsed = time() - start\n",
    "    # Report\n",
    "    print(\"I = %.6f\" % result)\n",
    "    print(\"stat delta I = %.6f\" % err)\n",
    "    print(\"real delta I = %.6f\" % (result - 0.8820814))\n",
    "    print(\"runtime = %.5f\" %elapsed)\n",
    "    \n",
    "ISMC(1000)"
   ]
  }
 ],
 "metadata": {
  "kernelspec": {
   "display_name": "Python 3",
   "language": "python",
   "name": "python3"
  },
  "language_info": {
   "codemirror_mode": {
    "name": "ipython",
    "version": 3
   },
   "file_extension": ".py",
   "mimetype": "text/x-python",
   "name": "python",
   "nbconvert_exporter": "python",
   "pygments_lexer": "ipython3",
   "version": "3.8.3"
  }
 },
 "nbformat": 4,
 "nbformat_minor": 4
}
