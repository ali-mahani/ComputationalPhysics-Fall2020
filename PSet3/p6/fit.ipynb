{
 "cells": [
  {
   "cell_type": "code",
   "execution_count": 1,
   "metadata": {},
   "outputs": [],
   "source": [
    "import numpy as np\n",
    "import matplotlib.pyplot as plt"
   ]
  },
  {
   "cell_type": "code",
   "execution_count": 2,
   "metadata": {},
   "outputs": [
    {
     "data": {
      "text/plain": [
       "array([0.08116154, 0.08116154, 0.00808462, 0.00808462, 0.08935128])"
      ]
     },
     "execution_count": 2,
     "metadata": {},
     "output_type": "execute_result"
    }
   ],
   "source": [
    "probs = np.array([0.51153846, 0.51153846,\n",
    "                  0.58461538, 0.58461538, 0.68205128])\n",
    "lengths = np.array([10, 20, 40, 80, 160])\n",
    "np.absolute(probs - 0.5927)"
   ]
  },
  {
   "cell_type": "code",
   "execution_count": 8,
   "metadata": {},
   "outputs": [
    {
     "name": "stdout",
     "output_type": "stream",
     "text": [
      "Slope is -0.30502 (+/-) 0.65170\n",
      "nu is 3.27852 (+/-) 0.65170\n",
      "the relative error percentile is: 1.4588873572853833\n"
     ]
    }
   ],
   "source": [
    "popt, pcov = np.polyfit(np.log10(lengths), np.log10(np.abs(probs - 0.5927)), 1, full=False, cov=True)\n",
    "error = np.sqrt(np.diag(pcov))\n",
    "print(\"Slope is %.5f\" % popt[0], \"(+/-) %.5f\" % error[0])\n",
    "print(\"nu is %.5f\" % (-1 / popt[0]), \"(+/-) %.5f\" % error[0])\n",
    "print(\"the relative error percentile is:\", ((-1/popt[0]) - 4/3) / (4/3))"
   ]
  },
  {
   "cell_type": "code",
   "execution_count": 4,
   "metadata": {},
   "outputs": [
    {
     "data": {
      "image/png": "[encoded data removed]",
      "text/plain": [
       "<Figure size 432x288 with 1 Axes>"
      ]
     },
     "metadata": {
      "needs_background": "light"
     },
     "output_type": "display_data"
    }
   ],
   "source": [
    "yfit = popt[0] * np.log10(lengths) + popt[1]\n",
    "plt.plot(np.log10(lengths), np.log10(np.abs(probs - 0.5927)), ls='', label='scatter data', marker='o')\n",
    "plt.plot(np.log10(lengths), yfit, label='fitted data')\n",
    "plt.legend()\n",
    "plt.xlabel('log(L)')\n",
    "plt.ylabel('log(|p(L) - p(infty)|)')\n",
    "plt.title('plot')\n",
    "plt.savefig('fig.jpg', bbox_inches='tight')\n",
    "plt.show()"
   ]
  }
 ],
 "metadata": {
  "kernelspec": {
   "display_name": "Python 3",
   "language": "python",
   "name": "python3"
  },
  "language_info": {
   "codemirror_mode": {
    "name": "ipython",
    "version": 3
   },
   "file_extension": ".py",
   "mimetype": "text/x-python",
   "name": "python",
   "nbconvert_exporter": "python",
   "pygments_lexer": "ipython3",
   "version": "3.8.3"
  }
 },
 "nbformat": 4,
 "nbformat_minor": 4
}
