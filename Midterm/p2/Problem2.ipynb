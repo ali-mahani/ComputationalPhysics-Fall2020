{
 "cells": [
  {
   "cell_type": "code",
   "execution_count": 1,
   "metadata": {},
   "outputs": [],
   "source": [
    "from matplotlib import pyplot as plt\n",
    "import numpy as np\n",
    "import networkx as nx\n",
    "from scipy.special import factorial"
   ]
  },
  {
   "cell_type": "code",
   "execution_count": 2,
   "metadata": {},
   "outputs": [
    {
     "name": "stdout",
     "output_type": "stream",
     "text": [
      "[info] Generating Graph\n",
      "[info] Calculating clustering\n",
      "[info] Generating Graph\n",
      "[info] Calculating clustering\n",
      "[info] Generating Graph\n",
      "[info] Calculating clustering\n",
      "[info] Generating Graph\n",
      "[info] Calculating clustering\n"
     ]
    }
   ],
   "source": [
    "k_means = [1, 8, 64, 512]\n",
    "\n",
    "def make_clust(k_mean):\n",
    "    \"\"\" make graph and plot hist of clustering\n",
    "        then return graph.\n",
    "    \"\"\"\n",
    "    N = 10000\n",
    "    # make graph\n",
    "    print(\"[info] Generating Graph\")\n",
    "    G = nx.erdos_renyi_graph(N, k_mean / N)\n",
    "\n",
    "    # clustering\n",
    "    print(\"[info] Calculating clustering\")\n",
    "    g_clustering = np.zeros(N)\n",
    "    clust = nx.clustering(G)\n",
    "    # convert clustering from dict to numpy array\n",
    "    for i in range(N):\n",
    "        g_clustering[i] = clust[i]\n",
    "    # plot hist\n",
    "    plt.hist(g_clustering, bins=40, density=0)\n",
    "    plt.title(\"distribution of clustering for <k>=\" + str(k_mean))\n",
    "    plt.savefig('clust' + str(k_mean) + '.jpg', bbox_inches='tight')\n",
    "    plt.close()\n",
    "    return G, g_clustering\n",
    "Gs = []\n",
    "g_clusts = []\n",
    "for k_mean in k_means:\n",
    "    G, g_clust = make_clust(k_mean)\n",
    "    Gs.append(G)\n",
    "    g_clusts.append(g_clust)\n"
   ]
  },
  {
   "cell_type": "markdown",
   "metadata": {},
   "source": [
    "### Part b"
   ]
  },
  {
   "cell_type": "code",
   "execution_count": 9,
   "metadata": {},
   "outputs": [],
   "source": [
    "# define the poisson distribution function\n",
    "def poisson(mean, k):\n",
    "    return np.exp(- mean) * (mean ** k) / factorial(k)\n",
    "\n",
    "# function to compare the deg dist with the poisson dist\n",
    "def comp_deg(G, k_mean):\n",
    "    N = 10000\n",
    "    # calculate the degree of each node\n",
    "    deg = nx.degree(G)\n",
    "    g_degree = np.zeros(N)\n",
    "    for i in range(N):\n",
    "        g_degree[i] = deg[i]\n",
    "    # use hist to get the data\n",
    "    dt = plt.hist(g_degree, bins=20, density=1)\n",
    "    plt.show()\n",
    "    plt.close()\n",
    "    prbblty = dt[0]\n",
    "    bins = dt[1]\n",
    "    return np.sum(poisson(k_mean, bins[:-1]) - prbblty)"
   ]
  },
  {
   "cell_type": "code",
   "execution_count": 10,
   "metadata": {},
   "outputs": [
    {
     "data": {
      "image/png": "[encoded data removed]",
      "text/plain": [
       "<Figure size 432x288 with 1 Axes>"
      ]
     },
     "metadata": {
      "needs_background": "light"
     },
     "output_type": "display_data"
    },
    {
     "name": "stdout",
     "output_type": "stream",
     "text": [
      "-0.37648935727859484\n"
     ]
    },
    {
     "data": {
      "image/png": "[encoded data removed]",
      "text/plain": [
       "<Figure size 432x288 with 1 Axes>"
      ]
     },
     "metadata": {
      "needs_background": "light"
     },
     "output_type": "display_data"
    },
    {
     "name": "stdout",
     "output_type": "stream",
     "text": [
      "-8.99045618751892e-05\n"
     ]
    },
    {
     "data": {
      "image/png": "[encoded data removed]",
      "text/plain": [
       "<Figure size 432x288 with 1 Axes>"
      ]
     },
     "metadata": {
      "needs_background": "light"
     },
     "output_type": "display_data"
    },
    {
     "name": "stdout",
     "output_type": "stream",
     "text": [
      "-0.00013615792773730888\n"
     ]
    },
    {
     "data": {
      "image/png": "[encoded data removed]",
      "text/plain": [
       "<Figure size 432x288 with 1 Axes>"
      ]
     },
     "metadata": {
      "needs_background": "light"
     },
     "output_type": "display_data"
    },
    {
     "name": "stdout",
     "output_type": "stream",
     "text": [
      "nan\n"
     ]
    },
    {
     "name": "stderr",
     "output_type": "stream",
     "text": [
      "<ipython-input-9-2d8260facaaf>:3: RuntimeWarning: overflow encountered in power\n",
      "  return np.exp(- mean) * (mean ** k) / factorial(k)\n",
      "<ipython-input-9-2d8260facaaf>:3: RuntimeWarning: invalid value encountered in true_divide\n",
      "  return np.exp(- mean) * (mean ** k) / factorial(k)\n"
     ]
    }
   ],
   "source": [
    "for i in range(4):\n",
    "    print(comp_deg(Gs[i], k_means[i]))\n",
    "    "
   ]
  }
 ],
 "metadata": {
  "kernelspec": {
   "display_name": "Python 3",
   "language": "python",
   "name": "python3"
  },
  "language_info": {
   "codemirror_mode": {
    "name": "ipython",
    "version": 3
   },
   "file_extension": ".py",
   "mimetype": "text/x-python",
   "name": "python",
   "nbconvert_exporter": "python",
   "pygments_lexer": "ipython3",
   "version": "3.8.3"
  }
 },
 "nbformat": 4,
 "nbformat_minor": 4
}
